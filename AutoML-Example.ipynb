{
 "cells": [
  {
   "cell_type": "code",
   "execution_count": 3,
   "id": "e4d6aa01-0a19-4401-a348-e7c6d6af81ad",
   "metadata": {},
   "outputs": [],
   "source": [
    "import datarobot as dr\n",
    "import datetime\n",
    "import pandas as pd"
   ]
  },
  {
   "cell_type": "code",
   "execution_count": 4,
   "id": "b6f3029c-dcdd-466c-be04-36ccc69dda66",
   "metadata": {},
   "outputs": [
    {
     "name": "stdout",
     "output_type": "stream",
     "text": [
      "Project ID: 614e079827f708c7282800a8\n"
     ]
    }
   ],
   "source": [
    "#import the training data set\n",
    "\n",
    "filename = '/data/GDrive/Customers/sn/Datasets/Classification/Dataset_Base.csv'\n",
    "now = datetime.datetime.now().strftime('%Y-%m-%dT%H:%M')\n",
    "project_name = 'sn_Classification_{}'.format(now)\n",
    "proj = dr.Project.create(sourcedata=filename,\n",
    "                         project_name=project_name)\n",
    "print('Project ID: {}'.format(proj.id))"
   ]
  },
  {
   "cell_type": "code",
   "execution_count": null,
   "id": "dc85755b-27fc-484f-b304-2ffc2872e1c8",
   "metadata": {},
   "outputs": [],
   "source": [
    "#set the target feature and run autopilot\n",
    "\n",
    "proj.set_target(\n",
    "    \"Converted\",\n",
    "    mode=dr.enums.AUTOPILOT_MODE.QUICK,\n",
    "    metric=\"LogLoss\",\n",
    "    featurelist_id=proj.get_featurelists()[1].id,\n",
    "    worker_count=-1\n",
    ")\n",
    "\n",
    "proj.wait_for_autopilot()"
   ]
  },
  {
   "cell_type": "code",
   "execution_count": 13,
   "id": "bb46dcd3-3b16-4101-9eca-1962479a0c32",
   "metadata": {},
   "outputs": [
    {
     "data": {
      "text/plain": [
       "Model('eXtreme Gradient Boosted Trees Classifier with Early Stopping')"
      ]
     },
     "execution_count": 13,
     "metadata": {},
     "output_type": "execute_result"
    }
   ],
   "source": [
    "#get the model that DR recommends for deployment\n",
    "\n",
    "model = dr.ModelRecommendation.get(\n",
    "    proj.id,\n",
    "    dr.enums.RECOMMENDED_MODEL_TYPE.RECOMMENDED_FOR_DEPLOYMENT\n",
    ").get_model()\n",
    "\n",
    "model"
   ]
  },
  {
   "cell_type": "code",
   "execution_count": 14,
   "id": "34ce2614-a118-4387-90c7-88fd953dd813",
   "metadata": {},
   "outputs": [
    {
     "data": {
      "text/plain": [
       "Deployment(ServiceNow_Classification)"
      ]
     },
     "execution_count": 14,
     "metadata": {},
     "output_type": "execute_result"
    }
   ],
   "source": [
    "#Deploy the model to DR\n",
    "\n",
    "#Get the prediction environment for native DR\n",
    "prediction_server = dr.PredictionServer.list()[0]\n",
    "\n",
    "#create the deployment\n",
    "\n",
    "deployment = dr.Deployment.create_from_learning_model(\n",
    "    model.id, label='sn_Classification', description='Classification Model',\n",
    "    default_prediction_server_id=prediction_server.id)\n",
    "\n",
    "#enable drift tracking\n",
    "\n",
    "deployment.update_drift_tracking_settings(feature_drift_enabled=True)\n"
   ]
  },
  {
   "cell_type": "code",
   "execution_count": 17,
   "id": "e9fc754f-ab79-4f2f-8b43-e3e71c2cf540",
   "metadata": {},
   "outputs": [
    {
     "data": {
      "text/plain": [
       "BatchPredictionJob(batchPredictions, '614e224c6317867cb03e9f1f', status=INITIALIZING)"
      ]
     },
     "execution_count": 17,
     "metadata": {},
     "output_type": "execute_result"
    }
   ],
   "source": [
    "#Score the first drifted file\n",
    "\n",
    "dr.BatchPredictionJob.score_to_file(\n",
    "    deployment.id,\n",
    "    '/data/GDrive/Customers/sn/Datasets/Classification/Dataset_version_V1_MIXED_FEATURES_Null.csv',\n",
    "    './predicted.csv',\n",
    ")"
   ]
  },
  {
   "cell_type": "code",
   "execution_count": 19,
   "id": "16e18775-b5fe-4713-b65f-ab04c77be8f2",
   "metadata": {},
   "outputs": [],
   "source": [
    "import time\n",
    "time.sleep(7200)"
   ]
  },
  {
   "cell_type": "code",
   "execution_count": null,
   "id": "7c2ad655-9c93-419b-a310-e423aaa05904",
   "metadata": {},
   "outputs": [],
   "source": [
    "#README: To make it easier to visualize wait an hour or two before running this set of predictions\n",
    "#Score the second drifted file\n",
    "\n",
    "dr.BatchPredictionJob.score_to_file(\n",
    "    deployment.id,\n",
    "    '/data/GDrive/Customers/sn/Datasets/Classification/Dataset_versionV2_Dependent_V1_Multiple_Columns_Nulls_Mixed_Numerical_Categorical_With_Outlier.csv',\n",
    "    './predicted.csv',\n",
    ")"
   ]
  }
 ],
 "metadata": {
  "kernelspec": {
   "display_name": "Python 3 (ipykernel)",
   "language": "python",
   "name": "python3"
  },
  "language_info": {
   "codemirror_mode": {
    "name": "ipython",
    "version": 3
   },
   "file_extension": ".py",
   "mimetype": "text/x-python",
   "name": "python",
   "nbconvert_exporter": "python",
   "pygments_lexer": "ipython3",
   "version": "3.9.7"
  }
 },
 "nbformat": 4,
 "nbformat_minor": 5
}
