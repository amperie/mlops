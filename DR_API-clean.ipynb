{
 "cells": [
  {
   "cell_type": "code",
   "execution_count": 24,
   "id": "8c653796-f37c-4f97-88fe-b7679e6981f0",
   "metadata": {
    "tags": []
   },
   "outputs": [],
   "source": [
    "#from datarobot import datarobot as dr\n",
    "\n",
    "import datarobot as dr\n",
    "\n",
    "dr.Client(endpoint='https://app.datarobot.com/api/v2', token='NjE1NTQzNTc4ZDVjNGEzMmFlYTg1YWIyOkZjK1Y5TnRRNmI5OGkwc1IvWHYwNC9OU24rUnJjbGVKYk5FLzhSelhvTzQ9')\n",
    "\n",
    "dep_name='API Automation - 3'\n"
   ]
  },
  {
   "cell_type": "code",
   "execution_count": 25,
   "id": "b7a4d548-fb5c-4540-859f-2036abef900d",
   "metadata": {},
   "outputs": [
    {
     "data": {
      "text/plain": [
       "'6177076ed60255664ac08c3b'"
      ]
     },
     "execution_count": 25,
     "metadata": {},
     "output_type": "execute_result"
    }
   ],
   "source": [
    "custom_model=dr.CustomInferenceModel.create(\n",
    "    name=dep_name,\n",
    "    target_type=dr.TARGET_TYPE.MULTICLASS,\n",
    "    target_name='class',\n",
    "    class_labels=['Iris-setosa','Iris-versicolor','Iris-virginica'],\n",
    "    description='Example of API automation',\n",
    "    language='Python 3'\n",
    ")\n",
    "custom_model.id"
   ]
  },
  {
   "cell_type": "code",
   "execution_count": 26,
   "id": "06a2541c-874c-4782-af33-51d9289082e8",
   "metadata": {},
   "outputs": [
    {
     "data": {
      "text/plain": [
       "False"
      ]
     },
     "execution_count": 26,
     "metadata": {},
     "output_type": "execute_result"
    }
   ],
   "source": [
    "train_data='https://raw.githubusercontent.com/amperie/mlops/main/datasets/iris.csv'\n",
    "\n",
    "dataset=dr.Dataset.create_from_url(url=train_data)\n",
    "custom_model.assign_training_data(dataset.id)\n",
    "custom_model.training_data_assignment_in_progress"
   ]
  },
  {
   "cell_type": "code",
   "execution_count": 27,
   "id": "57ca7aa3-8903-4d2e-9276-758377643340",
   "metadata": {},
   "outputs": [
    {
     "data": {
      "text/plain": [
       "'5e8c889607389fe0f466c72d'"
      ]
     },
     "execution_count": 27,
     "metadata": {},
     "output_type": "execute_result"
    }
   ],
   "source": [
    "\n",
    "envs=dr.ExecutionEnvironment.list()\n",
    "ExecutionEnvironment=next((x for x in envs if x.name == '[DataRobot] Python 3 Scikit-Learn Drop-In'), None)\n",
    "ExecutionEnvironment.id\n"
   ]
  },
  {
   "cell_type": "code",
   "execution_count": 28,
   "id": "74f3dc42-4b5c-4c52-9f0b-470a50128e2c",
   "metadata": {},
   "outputs": [],
   "source": [
    "\n",
    "model_version=dr.CustomModelVersion.create_clean(\n",
    "    custom_model_id=custom_model.id,\n",
    "    base_environment_id=ExecutionEnvironment.id,\n",
    "    files=['svm.pkl'],\n",
    ")\n",
    "\n",
    "\n",
    "test_data = 'https://raw.githubusercontent.com/amperie/mlops/main/datasets/iris-notarget.csv'\n",
    "dataset = dr.Dataset.create_from_url(url=test_data)\n"
   ]
  },
  {
   "cell_type": "code",
   "execution_count": 29,
   "id": "72f11cf6-a669-496a-9552-5c43276a78c9",
   "metadata": {},
   "outputs": [
    {
     "data": {
      "text/plain": [
       "'warning'"
      ]
     },
     "execution_count": 29,
     "metadata": {},
     "output_type": "execute_result"
    }
   ],
   "source": [
    "custom_model_test = dr.CustomModelTest.create(\n",
    "    custom_model_id=custom_model.id,\n",
    "    custom_model_version_id=model_version.id,\n",
    "    dataset_id=dataset.id,\n",
    "    max_wait=3600,  # 1 hour timeout\n",
    ")\n",
    "\n",
    "custom_model_test\n",
    "custom_model_test.overall_status"
   ]
  },
  {
   "cell_type": "code",
   "execution_count": 30,
   "id": "e71c0a83-2e99-4225-aa59-ef9693af9545",
   "metadata": {},
   "outputs": [
    {
     "data": {
      "text/plain": [
       "PredictionServer(https://datarobot-demo.orm.datarobot.com)"
      ]
     },
     "execution_count": 30,
     "metadata": {},
     "output_type": "execute_result"
    }
   ],
   "source": [
    "\n",
    "prediction_server = dr.PredictionServer.list()[0]\n",
    "deployment=dr.Deployment.create_from_custom_model_version(\n",
    "    model_version.id,\n",
    "    dep_name,\n",
    "    dep_name,\n",
    "    prediction_server.id,\n",
    ")\n",
    "\n",
    "prediction_server"
   ]
  },
  {
   "cell_type": "code",
   "execution_count": null,
   "id": "c4749b20-83bf-49c8-b8ca-b7421ef2fe57",
   "metadata": {},
   "outputs": [],
   "source": []
  }
 ],
 "metadata": {
  "kernelspec": {
   "display_name": "Python 3 (ipykernel)",
   "language": "python",
   "name": "python3"
  },
  "language_info": {
   "codemirror_mode": {
    "name": "ipython",
    "version": 3
   },
   "file_extension": ".py",
   "mimetype": "text/x-python",
   "name": "python",
   "nbconvert_exporter": "python",
   "pygments_lexer": "ipython3",
   "version": "3.9.7"
  }
 },
 "nbformat": 4,
 "nbformat_minor": 5
}
