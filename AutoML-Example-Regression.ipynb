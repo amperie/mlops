{
 "cells": [
  {
   "cell_type": "code",
   "execution_count": 1,
   "id": "e4d6aa01-0a19-4401-a348-e7c6d6af81ad",
   "metadata": {},
   "outputs": [],
   "source": [
    "import datarobot as dr\n",
    "import datetime\n",
    "import pandas as pd"
   ]
  },
  {
   "cell_type": "code",
   "execution_count": null,
   "id": "b6f3029c-dcdd-466c-be04-36ccc69dda66",
   "metadata": {
    "slideshow": {
     "slide_type": "slide"
    },
    "tags": []
   },
   "outputs": [],
   "source": [
    "#import the training data set\n",
    "\n",
    "filename = '/data/GDrive/Customers//Datasets/Regression/SALES_FORECASTING_BASE.csv'\n",
    "now = datetime.datetime.now().strftime('%Y-%m-%dT%H:%M')\n",
    "project_name = 'ExampleRegression_{}'.format(now)\n",
    "proj = dr.Project.create(sourcedata=filename,\n",
    "                         project_name=project_name)\n",
    "print('Project ID: {}'.format(proj.id))"
   ]
  },
  {
   "cell_type": "code",
   "execution_count": null,
   "id": "dc85755b-27fc-484f-b304-2ffc2872e1c8",
   "metadata": {},
   "outputs": [],
   "source": [
    "#set the target feature and run autopilot\n",
    "\n",
    "proj.set_target(\n",
    "    \"TOTAL_REVENUE_NEXT_12M\",\n",
    "    mode=dr.enums.AUTOPILOT_MODE.QUICK,\n",
    "    metric=\"RMSE\",\n",
    "    featurelist_id=proj.get_featurelists()[1].id,\n",
    "    worker_count=-1\n",
    ")\n",
    "\n",
    "proj.wait_for_autopilot()"
   ]
  },
  {
   "cell_type": "code",
   "execution_count": null,
   "id": "bb46dcd3-3b16-4101-9eca-1962479a0c32",
   "metadata": {},
   "outputs": [],
   "source": [
    "#get the model that DR recommends for deployment\n",
    "\n",
    "model = dr.ModelRecommendation.get(\n",
    "    proj.id,\n",
    "    dr.enums.RECOMMENDED_MODEL_TYPE.RECOMMENDED_FOR_DEPLOYMENT\n",
    ").get_model()\n",
    "\n",
    "model"
   ]
  },
  {
   "cell_type": "code",
   "execution_count": null,
   "id": "34ce2614-a118-4387-90c7-88fd953dd813",
   "metadata": {},
   "outputs": [],
   "source": [
    "#Deploy the model to DR\n",
    "\n",
    "#Get the prediction environment for native DR\n",
    "prediction_server = dr.PredictionServer.list()[0]\n",
    "\n",
    "#create the deployment\n",
    "\n",
    "deployment = dr.Deployment.create_from_learning_model(\n",
    "    model.id, label=ExampleRegression', description='Regression Model',\n",
    "    default_prediction_server_id=prediction_server.id)\n",
    "\n",
    "#enable drift tracking\n",
    "\n",
    "deployment.update_drift_tracking_settings(feature_drift_enabled=True)\n"
   ]
  },
  {
   "cell_type": "code",
   "execution_count": null,
   "id": "e9fc754f-ab79-4f2f-8b43-e3e71c2cf540",
   "metadata": {},
   "outputs": [],
   "source": [
    "#Score a file\n",
    "\n",
    "dr.BatchPredictionJob.score_to_file(\n",
    "    deployment.id,\n",
    "    '/data/GDrive/Customers//Datasets/Regression/SALES_FORECASTING_V1_MIXED_NULL_Numerical_Categorical.csv',\n",
    "    './predicted.csv',\n",
    ")"
   ]
  },
  {
   "cell_type": "code",
   "execution_count": null,
   "id": "16e18775-b5fe-4713-b65f-ab04c77be8f2",
   "metadata": {},
   "outputs": [],
   "source": []
  }
 ],
 "metadata": {
  "kernelspec": {
   "display_name": "Python 3 (ipykernel)",
   "language": "python",
   "name": "python3"
  },
  "language_info": {
   "codemirror_mode": {
    "name": "ipython",
    "version": 3
   },
   "file_extension": ".py",
   "mimetype": "text/x-python",
   "name": "python",
   "nbconvert_exporter": "python",
   "pygments_lexer": "ipython3",
   "version": "3.9.7"
  },
  "toc-showcode": false
 },
 "nbformat": 4,
 "nbformat_minor": 5
}
